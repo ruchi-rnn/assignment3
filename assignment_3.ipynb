{
  "nbformat": 4,
  "nbformat_minor": 0,
  "metadata": {
    "colab": {
      "provenance": []
    },
    "kernelspec": {
      "name": "python3",
      "display_name": "Python 3"
    },
    "language_info": {
      "name": "python"
    }
  },
  "cells": [
    {
      "cell_type": "code",
      "execution_count": 1,
      "metadata": {
        "id": "xhjt82vloVZf"
      },
      "outputs": [],
      "source": [
        "#program to check a number is positive, negative or zero"
      ]
    },
    {
      "cell_type": "code",
      "source": [
        "num = 0\n",
        "if num>0:\n",
        "  print(\"number is positive\")\n",
        "elif num==0:\n",
        "  print(\"number is zero\")\n",
        "else:\n",
        "  print(\"number is negative\")"
      ],
      "metadata": {
        "colab": {
          "base_uri": "https://localhost:8080/"
        },
        "id": "Cr5IEhlKo8PO",
        "outputId": "01826e55-c697-46b4-9276-84a0b1220c51"
      },
      "execution_count": 3,
      "outputs": [
        {
          "output_type": "stream",
          "name": "stdout",
          "text": [
            "number is zero\n"
          ]
        }
      ]
    },
    {
      "cell_type": "code",
      "source": [
        "# program to check a number is odd or even"
      ],
      "metadata": {
        "id": "9XI7q3PZpZHR"
      },
      "execution_count": 4,
      "outputs": []
    },
    {
      "cell_type": "code",
      "source": [
        "a = int(input(\"Enter a number\"))\n",
        "if a%2==0:\n",
        "  print(\"number is even\")\n",
        "\n",
        "else:\n",
        "  print(\"number is odd\")"
      ],
      "metadata": {
        "colab": {
          "base_uri": "https://localhost:8080/"
        },
        "id": "woM8YhJpqc9A",
        "outputId": "828f6458-1740-47f1-adf9-c440cfdd501b"
      },
      "execution_count": 5,
      "outputs": [
        {
          "output_type": "stream",
          "name": "stdout",
          "text": [
            "Enter a number56\n",
            "number is even\n"
          ]
        }
      ]
    },
    {
      "cell_type": "code",
      "source": [
        "#program to check a leap year"
      ],
      "metadata": {
        "id": "lACazn9kryAZ"
      },
      "execution_count": 6,
      "outputs": []
    },
    {
      "cell_type": "code",
      "source": [],
      "metadata": {
        "id": "WYAoJaMNsccj"
      },
      "execution_count": null,
      "outputs": []
    },
    {
      "cell_type": "code",
      "source": [
        "# program to check prime number"
      ],
      "metadata": {
        "id": "3jfOoed2uldq"
      },
      "execution_count": 7,
      "outputs": []
    },
    {
      "cell_type": "code",
      "source": [],
      "metadata": {
        "id": "apY20HTJuuac"
      },
      "execution_count": 7,
      "outputs": []
    },
    {
      "cell_type": "code",
      "source": [
        "#program to print all prime numbers"
      ],
      "metadata": {
        "id": "L4mcI48huynW"
      },
      "execution_count": null,
      "outputs": []
    },
    {
      "cell_type": "code",
      "source": [],
      "metadata": {
        "id": "g-ll4RGIvFPO"
      },
      "execution_count": null,
      "outputs": []
    }
  ]
}